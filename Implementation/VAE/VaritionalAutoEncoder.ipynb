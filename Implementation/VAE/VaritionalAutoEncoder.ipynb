{
 "cells": [
  {
   "cell_type": "code",
   "execution_count": 3,
   "source": [
    "import tensorflow as tf\r\n",
    "from tensorflow.keras.layers import Input, Dense, Lambda\r\n",
    "from tensorflow.keras.models import Model\r\n",
    "from tensorflow.keras import backend as K\r\n",
    "from tensorflow.keras.datasets import mnist\r\n",
    "import numpy as np\r\n",
    "\r\n",
    "print(f\"tensorflow {tf.__version__}\")\r\n",
    "print(f\"Numpy {np.__version__}\")"
   ],
   "outputs": [
    {
     "output_type": "stream",
     "name": "stdout",
     "text": [
      "tensorflow 2.1.0\n",
      "Numpy 1.19.2\n"
     ]
    }
   ],
   "metadata": {}
  },
  {
   "cell_type": "code",
   "execution_count": null,
   "source": [
    "BATCH_SIZE = 64,\r\n",
    "ORIGINAL_DIM = 28 * 28\r\n",
    "\r\n",
    "LATENT_DIM = 2 # tHE cOMPRESSED dIMENSION\r\n",
    "INTERMEDIATE_DIM = 256 # The units For Decoder\r\n",
    "EPOCHS = 5\r\n",
    "epsilon_std = 1.0 # For generating The Gaussian \r\n",
    "\r\n",
    "\r\n"
   ],
   "outputs": [],
   "metadata": {}
  }
 ],
 "metadata": {
  "orig_nbformat": 4,
  "language_info": {
   "name": "python",
   "version": "3.6.12",
   "mimetype": "text/x-python",
   "codemirror_mode": {
    "name": "ipython",
    "version": 3
   },
   "pygments_lexer": "ipython3",
   "nbconvert_exporter": "python",
   "file_extension": ".py"
  },
  "kernelspec": {
   "name": "python3",
   "display_name": "Python 3.6.12 64-bit ('DataScience': conda)"
  },
  "interpreter": {
   "hash": "81e8d6ec8b128683c3ce30ee758ecb536232cfad698fab650870c6728bfc659d"
  }
 },
 "nbformat": 4,
 "nbformat_minor": 2
}