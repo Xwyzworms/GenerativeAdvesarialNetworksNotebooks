{
 "cells": [
  {
   "cell_type": "code",
   "execution_count": 1,
   "source": [
    "import tensorflow as tf\r\n",
    "import numpy as np\r\n",
    "\r\n",
    "from tensorflow.keras.layers import Dense, Flatten, Dropout\r\n",
    "from tensorflow.keras.datasets import mnist\r\n",
    "from tensorflow.keras.optimizers import Adam\r\n",
    "\r\n",
    "print(f\"Tensorflow {tf.__version__}\")\r\n",
    "print(f\"Numpy {np.__version__}\")\r\n",
    "\r\n"
   ],
   "outputs": [
    {
     "output_type": "stream",
     "name": "stdout",
     "text": [
      "Tensorflow 2.5.0\n",
      "Numpy 1.19.2\n"
     ]
    }
   ],
   "metadata": {}
  },
  {
   "cell_type": "code",
   "execution_count": 13,
   "source": [
    "IMG_ROWS = 28\r\n",
    "IMG_COLS = 28\r\n",
    "IMG_CHANNELS = 1\r\n",
    "\r\n",
    "IMG_SHAPE = (IMG_ROWS, IMG_COLS, IMG_CHANNELS)\r\n",
    "\r\n",
    "class Discriminator(tf.keras.Model):\r\n",
    "\r\n",
    "\tdef __init__(self, Intermediate_dims):\r\n",
    "\t\tsuper(Discriminator,self).__init__()\r\n",
    "\r\n",
    "\t\tself.hiddenLayer = Dense(units = Intermediate_dims,activation = tf.nn.leaky_relu,\r\n",
    "\t\tkernel_initializer = tf.keras.initializers.he_normal())\r\n",
    "\t\tself.flatten = Flatten()\r\n",
    "\t\tself.outputLayer = Dense(units = 1 ,activation = tf.nn.sigmoid,\r\n",
    "\t\tkernel_initializer = tf.keras.initializers.he_normal())\r\n",
    "\t\r\n",
    "\tdef call(self, input_features):\r\n",
    "\t\tx = self.flatten(input_features)\r\n",
    "\t\tx = self.hiddenLayer(x)\r\n",
    "\t\tx = self.outputLayer(x)\r\n",
    "\r\n",
    "\t\treturn x\r\n",
    "\r\n",
    "class Generator(tf.keras.Model):\r\n",
    "\r\n",
    "\tdef __init__(self, Intermediate_dims, IMG_SHAPE):\r\n",
    "\t\tsuper(Generator,self).__init__()\r\n",
    "\r\n",
    "\t\tself.input_layer = tf.keras.Input(shape = IMG_SHAPE)\r\n",
    "\t\tself.hidden_layer = Dense(units = Intermediate_dims,activation = tf.nn.leaky_relu,\r\n",
    "\t\tkernel_initializer = tf.keras.initializers.he_normal())\r\n",
    "\r\n",
    "\t\tself.output_layer = tf.keras.layers.Reshape(IMG_SHAPE)\r\n",
    "\t\tself.before_output_layer = Dense(units = IMG_COLS * IMG_ROWS, activation = tf.nn.tanh) \r\n",
    "\r\n",
    "\tdef call(self, input_features):\r\n",
    "\t\tinput_layer = self.input_layer(input_features)\r\n",
    "\t\tx = self.hidden_layer(input_layer)\r\n",
    "\t\tx = self.before_output_layer(x)\r\n",
    "\t\tx = self.output_layer(x)\r\n",
    "\t\t\r\n",
    "\t\treturn x\r\n",
    "\r\n",
    "class GenerativeAdversarialNetworks(tf.keras.Model):\r\n",
    "\r\n",
    "\tdef __init__(self,Intermediate_dims,IMG_SHAPE):\r\n",
    "\t\tsuper(GenerativeAdversarialNetworks,self).__init__()\r\n",
    "\t\tself.discriminator = Discriminator( Intermediate_dims)\r\n",
    "\t\tself.generator = Generator(Intermediate_dims, IMG_SHAPE)\r\n",
    "\r\n",
    "\r\n",
    "\tdef modifedParams(self):\r\n",
    "\t\tself.discriminator.trainable = False\r\n",
    "\t\tself.discriminator.compile(optimizer = Adam(0.0001),loss=tf.keras.losses.binary_crossentropy,metrics=[\"acc\"])\r\n",
    "\r\n",
    "\tdef call(self, input_features):\r\n",
    "\t\tself.modifedParams()\r\n",
    "\t\tgenerated_image = self.generator(input_features)\r\n",
    "\t\tdiscriminator_output = self.discriminator(generated_image)\r\n",
    "\r\n",
    "\t\treturn discriminator_output\r\n",
    "\t\r\n",
    "\r\n",
    "GAN =GenerativeAdversarialNetworks(128, IMG_SHAPE)\r\n",
    "GAN.compile(loss=tf.keras.losses.binary_crossentropy,optimizer = Adam(0.0001))\r\n",
    "\r\n"
   ],
   "outputs": [],
   "metadata": {}
  },
  {
   "cell_type": "code",
   "execution_count": null,
   "source": [],
   "outputs": [],
   "metadata": {}
  },
  {
   "cell_type": "code",
   "execution_count": null,
   "source": [],
   "outputs": [],
   "metadata": {}
  },
  {
   "cell_type": "code",
   "execution_count": null,
   "source": [],
   "outputs": [],
   "metadata": {}
  }
 ],
 "metadata": {
  "orig_nbformat": 4,
  "language_info": {
   "name": "python",
   "version": "3.6.12",
   "mimetype": "text/x-python",
   "codemirror_mode": {
    "name": "ipython",
    "version": 3
   },
   "pygments_lexer": "ipython3",
   "nbconvert_exporter": "python",
   "file_extension": ".py"
  },
  "kernelspec": {
   "name": "python3",
   "display_name": "Python 3.6.12 64-bit ('DataScience': conda)"
  },
  "interpreter": {
   "hash": "81e8d6ec8b128683c3ce30ee758ecb536232cfad698fab650870c6728bfc659d"
  }
 },
 "nbformat": 4,
 "nbformat_minor": 2
}